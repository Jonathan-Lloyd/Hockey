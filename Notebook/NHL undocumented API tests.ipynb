{
 "cells": [
  {
   "cell_type": "code",
   "execution_count": 1,
   "metadata": {},
   "outputs": [],
   "source": [
    "import requests\n",
    "import pandas as pd\n",
    "import matplotlib.pyplot as plt\n",
    "\n",
    "%matplotlib inline"
   ]
  },
  {
   "cell_type": "code",
   "execution_count": 2,
   "metadata": {},
   "outputs": [],
   "source": [
    "endpoint = 'https://statsapi.web.nhl.com/api/v1/teams/'"
   ]
  },
  {
   "cell_type": "code",
   "execution_count": 3,
   "metadata": {},
   "outputs": [],
   "source": [
    "args = '?teamId=1,2,3,4,5,6,7,8,9,10&expand=team.roster&season=20112012'\n",
    "args2 ='?teamId=12,13,14,15,16,17,18,19,20&expand=team.roster&season=20202021'\n",
    "args3 = '?teamId=21,22,23,24,25,26,27,28,29,30,52&expand=team.roster&season=20202021'"
   ]
  },
  {
   "cell_type": "code",
   "execution_count": 4,
   "metadata": {},
   "outputs": [],
   "source": [
    "teams1_10 = endpoint + args"
   ]
  },
  {
   "cell_type": "code",
   "execution_count": 5,
   "metadata": {},
   "outputs": [],
   "source": [
    "teams12_20 = endpoint + args2"
   ]
  },
  {
   "cell_type": "code",
   "execution_count": 6,
   "metadata": {},
   "outputs": [],
   "source": [
    "teams21_33= endpoint + args3"
   ]
  },
  {
   "cell_type": "code",
   "execution_count": 7,
   "metadata": {},
   "outputs": [],
   "source": [
    "first_response = requests.get(endpoint)"
   ]
  },
  {
   "cell_type": "code",
   "execution_count": 8,
   "metadata": {},
   "outputs": [],
   "source": [
    "response = requests.get(teams1_10)"
   ]
  },
  {
   "cell_type": "code",
   "execution_count": 9,
   "metadata": {},
   "outputs": [],
   "source": [
    "response2 = requests.get(teams12_20)"
   ]
  },
  {
   "cell_type": "code",
   "execution_count": 10,
   "metadata": {},
   "outputs": [],
   "source": [
    "response3 = requests.get(teams21_33)"
   ]
  },
  {
   "cell_type": "code",
   "execution_count": 11,
   "metadata": {},
   "outputs": [
    {
     "data": {
      "text/plain": [
       "<Response [200]>"
      ]
     },
     "execution_count": 11,
     "metadata": {},
     "output_type": "execute_result"
    }
   ],
   "source": [
    "first_response"
   ]
  },
  {
   "cell_type": "code",
   "execution_count": 12,
   "metadata": {},
   "outputs": [
    {
     "data": {
      "text/plain": [
       "<Response [200]>"
      ]
     },
     "execution_count": 12,
     "metadata": {},
     "output_type": "execute_result"
    }
   ],
   "source": [
    "response"
   ]
  },
  {
   "cell_type": "code",
   "execution_count": 13,
   "metadata": {},
   "outputs": [
    {
     "data": {
      "text/plain": [
       "<Response [200]>"
      ]
     },
     "execution_count": 13,
     "metadata": {},
     "output_type": "execute_result"
    }
   ],
   "source": [
    "response2"
   ]
  },
  {
   "cell_type": "code",
   "execution_count": 14,
   "metadata": {},
   "outputs": [
    {
     "data": {
      "text/plain": [
       "<Response [200]>"
      ]
     },
     "execution_count": 14,
     "metadata": {},
     "output_type": "execute_result"
    }
   ],
   "source": [
    "response3"
   ]
  },
  {
   "cell_type": "code",
   "execution_count": 15,
   "metadata": {},
   "outputs": [],
   "source": [
    "first_res = first_response.json()"
   ]
  },
  {
   "cell_type": "code",
   "execution_count": 16,
   "metadata": {},
   "outputs": [],
   "source": [
    "res = response.json()"
   ]
  },
  {
   "cell_type": "code",
   "execution_count": 17,
   "metadata": {},
   "outputs": [],
   "source": [
    "res2 = response2.json()"
   ]
  },
  {
   "cell_type": "code",
   "execution_count": 18,
   "metadata": {},
   "outputs": [],
   "source": [
    "res3 = response3.json()"
   ]
  },
  {
   "cell_type": "code",
   "execution_count": 19,
   "metadata": {},
   "outputs": [
    {
     "data": {
      "text/plain": [
       "2"
      ]
     },
     "execution_count": 19,
     "metadata": {},
     "output_type": "execute_result"
    }
   ],
   "source": [
    "len(res)"
   ]
  },
  {
   "cell_type": "code",
   "execution_count": 25,
   "metadata": {},
   "outputs": [
    {
     "data": {
      "text/plain": [
       "dict_keys(['id', 'name', 'link', 'venue', 'abbreviation', 'teamName', 'locationName', 'firstYearOfPlay', 'division', 'conference', 'franchise', 'roster', 'shortName', 'officialSiteUrl', 'franchiseId', 'active'])"
      ]
     },
     "execution_count": 25,
     "metadata": {},
     "output_type": "execute_result"
    }
   ],
   "source": [
    "res['teams'][0].keys()"
   ]
  },
  {
   "cell_type": "code",
   "execution_count": 21,
   "metadata": {},
   "outputs": [
    {
     "ename": "NameError",
     "evalue": "name 'first' is not defined",
     "output_type": "error",
     "traceback": [
      "\u001b[1;31m---------------------------------------------------------------------------\u001b[0m",
      "\u001b[1;31mNameError\u001b[0m                                 Traceback (most recent call last)",
      "\u001b[1;32m<ipython-input-21-145251939e3e>\u001b[0m in \u001b[0;36m<module>\u001b[1;34m\u001b[0m\n\u001b[1;32m----> 1\u001b[1;33m \u001b[0mfirst\u001b[0m\u001b[1;33m(\u001b[0m\u001b[0mres\u001b[0m\u001b[1;33m)\u001b[0m\u001b[1;33m\u001b[0m\u001b[1;33m\u001b[0m\u001b[0m\n\u001b[0m",
      "\u001b[1;31mNameError\u001b[0m: name 'first' is not defined"
     ]
    }
   ],
   "source": [
    "first(res)"
   ]
  },
  {
   "cell_type": "code",
   "execution_count": null,
   "metadata": {},
   "outputs": [],
   "source": [
    "res2['teams'][0]['roster']['roster'][0]['person'].keys()"
   ]
  },
  {
   "cell_type": "code",
   "execution_count": null,
   "metadata": {},
   "outputs": [],
   "source": [
    "type(res)"
   ]
  },
  {
   "cell_type": "code",
   "execution_count": null,
   "metadata": {},
   "outputs": [],
   "source": [
    "res.keys()"
   ]
  },
  {
   "cell_type": "code",
   "execution_count": null,
   "metadata": {},
   "outputs": [],
   "source": [
    "res['teams'][0].keys()"
   ]
  },
  {
   "cell_type": "code",
   "execution_count": null,
   "metadata": {},
   "outputs": [],
   "source": [
    "res['teams'][0]['teamName']"
   ]
  },
  {
   "cell_type": "code",
   "execution_count": null,
   "metadata": {},
   "outputs": [],
   "source": [
    "res['teams'][0]['roster']['roster'][0]"
   ]
  },
  {
   "cell_type": "code",
   "execution_count": null,
   "metadata": {},
   "outputs": [],
   "source": [
    "res['teams'][]['name']"
   ]
  },
  {
   "cell_type": "code",
   "execution_count": null,
   "metadata": {},
   "outputs": [],
   "source": [
    "first10id_name = pd.DataFrame()\n",
    "\n",
    "for team in res['teams']:\n",
    "    team_name = team['name']\n",
    "    for person in team['roster']['roster']:\n",
    "        per ={}\n",
    "        per['id']=(person['person']['id'])\n",
    "        per['name']=(person['person']['fullName'])\n",
    "        per['position']=(person['position']['type'])\n",
    "        per['team']=team_name\n",
    "    \n",
    "        \n",
    "        first10id_name= first10id_name.append(per,ignore_index=True)\n",
    "    \n",
    "\n"
   ]
  },
  {
   "cell_type": "code",
   "execution_count": null,
   "metadata": {},
   "outputs": [],
   "source": [
    "second10id_name = pd.DataFrame()\n",
    "\n",
    "for team2 in res2['teams']:\n",
    "    team_name2 = team2['name']\n",
    "    for person2 in team2['roster']['roster']:\n",
    "        per2 ={}\n",
    "        per2['id']=(person2['person']['id'])\n",
    "        per2['name']=(person2['person']['fullName'])\n",
    "        per2['position']=(person2['position']['type'])\n",
    "        per2['team']=team_name2\n",
    "  \n",
    "        \n",
    "        second10id_name= second10id_name.append(per2,ignore_index=True)"
   ]
  },
  {
   "cell_type": "code",
   "execution_count": null,
   "metadata": {},
   "outputs": [],
   "source": [
    "third10id_name = pd.DataFrame()\n",
    "\n",
    "for team3 in res3['teams']:\n",
    "    team_name3 = team3['name']\n",
    "    try:\n",
    "        for person3 in team3['roster']['roster']:\n",
    "            per3 ={}\n",
    "            per3['id']=(person2['person']['id'])\n",
    "            per3['name']=(person2['person']['fullName'])\n",
    "            per3['position']=(person2['position']['type'])\n",
    "            per3['team']=team_name2\n",
    "    except:\n",
    "        print(team3)\n",
    "  \n",
    "        \n",
    "        third10id_name= third10id_name.append(per3,ignore_index=True)"
   ]
  },
  {
   "cell_type": "code",
   "execution_count": null,
   "metadata": {},
   "outputs": [],
   "source": [
    "team2"
   ]
  },
  {
   "cell_type": "code",
   "execution_count": null,
   "metadata": {},
   "outputs": [],
   "source": [
    "first10id_name['id']= first10id_name['id'].astype(int).astype(str)"
   ]
  },
  {
   "cell_type": "code",
   "execution_count": null,
   "metadata": {},
   "outputs": [],
   "source": [
    "second10id_name['id']= second10id_name['id'].astype(int).astype(str)"
   ]
  },
  {
   "cell_type": "code",
   "execution_count": null,
   "metadata": {
    "scrolled": true
   },
   "outputs": [],
   "source": [
    "first10id_name.head(40)"
   ]
  },
  {
   "cell_type": "code",
   "execution_count": null,
   "metadata": {},
   "outputs": [],
   "source": [
    "second10id_name"
   ]
  },
  {
   "cell_type": "code",
   "execution_count": null,
   "metadata": {},
   "outputs": [],
   "source": [
    "\n",
    "for i,row in first10id_name.iterrows():\n",
    "    endpointall ='https://statsapi.web.nhl.com/api/v1/people/' + str(row['id']) +'/stats/?stats=statsSingleSeason&season=20112012'\n",
    "    responseall=requests.get(endpointall)\n",
    "    resall = responseall.json()\n",
    "    for team in resall['stats']:\n",
    "        for split in team['splits']:\n",
    "            if row['position']=='Goalie':\n",
    "                first10id_name.at[i,'assists']= 0\n",
    "                first10id_name.at[i,'games']= split['stat']['games']\n",
    "                first10id_name.at[i,'games_started']= split['stat']['gamesStarted'] \n",
    "                first10id_name.at[i,'goals']= 0\n",
    "                first10id_name.at[i,'time_on_ice']= split['stat']['timeOnIcePerGame']\n",
    "                first10id_name.at[i,'blocked']= 0\n",
    "                first10id_name.at[i,'wins']= split['stat']['wins']\n",
    "                first10id_name.at[i,'losses']= split['stat']['losses']\n",
    "                first10id_name.at[i,'gaa']= split['stat']['goalAgainstAverage']\n",
    "                first10id_name.at[i,'save_percent']= split['stat']['savePercentage'] \n",
    "                first10id_name.at[i,'shutouts']= split['stat']['shutouts']\n",
    "                first10id_name.at[i,'yearid']= '2011-2102'\n",
    "                \n",
    "                \n",
    "            else: \n",
    "                first10id_name.at[i,'assists']= split['stat']['assists']\n",
    "                first10id_name.at[i,'games']= split['stat']['games']\n",
    "                first10id_name.at[i,'games_started']= 0\n",
    "                first10id_name.at[i,'goals']= split['stat']['goals']\n",
    "                first10id_name.at[i,'time_on_ice']= split['stat']['timeOnIcePerGame']\n",
    "                first10id_name.at[i,'blocked']= split['stat']['blocked']\n",
    "                first10id_name.at[i,'penaltymin']= split['stat']['pim']\n",
    "                first10id_name.at[i,'plusMinus']= split['stat']['plusMinus']\n",
    "                first10id_name.at[i,'wins']= 0\n",
    "                first10id_name.at[i,'losses']= 0\n",
    "                first10id_name.at[i,'gaa']= 0\n",
    "                first10id_name.at[i,'save_percent']= 0\n",
    "                first10id_name.at[i,'shutouts']= 0\n",
    "                first10id_name.at[i,'yearid']= '2011-2102'\n",
    "            \n",
    "                  \n",
    "    \n",
    "\n",
    "    \n",
    "    \n",
    "    \n",
    "\n",
    "          \n",
    "    \n",
    "    \n",
    "\n",
    "\n"
   ]
  },
  {
   "cell_type": "code",
   "execution_count": null,
   "metadata": {},
   "outputs": [],
   "source": [
    "first10id_name.head()"
   ]
  },
  {
   "cell_type": "code",
   "execution_count": null,
   "metadata": {},
   "outputs": [],
   "source": [
    "first10id_name.to_csv('../Data/firstgamesgoalsassists.csv')"
   ]
  },
  {
   "cell_type": "code",
   "execution_count": null,
   "metadata": {},
   "outputs": [],
   "source": [
    "res2.keys()"
   ]
  },
  {
   "cell_type": "code",
   "execution_count": null,
   "metadata": {},
   "outputs": [],
   "source": [
    "res2['stats'][0]['splits'][0]['season']"
   ]
  },
  {
   "cell_type": "code",
   "execution_count": null,
   "metadata": {},
   "outputs": [],
   "source": [
    "endpointgoalie ='https://statsapi.web.nhl.com/api/v1/people/8473541/stats/?stats=statsSingleSeason&season=20112012'\n",
    "goalieresponse = requests.get(endpointgoalie)\n",
    "goalieresponse"
   ]
  },
  {
   "cell_type": "code",
   "execution_count": null,
   "metadata": {},
   "outputs": [],
   "source": [
    "goalieresult = goalieresponse.json()\n",
    "goalieresult.keys()"
   ]
  },
  {
   "cell_type": "code",
   "execution_count": null,
   "metadata": {},
   "outputs": [],
   "source": [
    "goalieresult['stats'][0]['splits']\n"
   ]
  },
  {
   "cell_type": "code",
   "execution_count": null,
   "metadata": {},
   "outputs": [],
   "source": [
    "from IPython.display import Audio\n",
    "wow = '../Data/wowc.mp3'\n",
    "finished=Audio(url = wow, autoplay = True)"
   ]
  },
  {
   "cell_type": "code",
   "execution_count": null,
   "metadata": {},
   "outputs": [],
   "source": [
    "finished"
   ]
  },
  {
   "cell_type": "code",
   "execution_count": null,
   "metadata": {},
   "outputs": [],
   "source": []
  }
 ],
 "metadata": {
  "kernelspec": {
   "display_name": "Python 3",
   "language": "python",
   "name": "python3"
  },
  "language_info": {
   "codemirror_mode": {
    "name": "ipython",
    "version": 3
   },
   "file_extension": ".py",
   "mimetype": "text/x-python",
   "name": "python",
   "nbconvert_exporter": "python",
   "pygments_lexer": "ipython3",
   "version": "3.8.5"
  }
 },
 "nbformat": 4,
 "nbformat_minor": 5
}
