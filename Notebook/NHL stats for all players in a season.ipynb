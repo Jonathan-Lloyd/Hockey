{
 "cells": [
  {
   "cell_type": "code",
   "execution_count": 1,
   "metadata": {},
   "outputs": [],
   "source": [
    "import requests\n",
    "import pandas as pd\n",
    "import matplotlib.pyplot as plt\n",
    "from IPython.display import Audio\n",
    "\n",
    "%matplotlib inline"
   ]
  },
  {
   "cell_type": "code",
   "execution_count": 2,
   "metadata": {},
   "outputs": [],
   "source": [
    "\n",
    "wow = '../Data/wowc.mp3'\n",
    "finished=Audio(url = wow, autoplay = True)"
   ]
  },
  {
   "cell_type": "code",
   "execution_count": 3,
   "metadata": {},
   "outputs": [],
   "source": [
    "endpoint = 'https://statsapi.web.nhl.com/api/v1/teams/'"
   ]
  },
  {
   "cell_type": "code",
   "execution_count": 4,
   "metadata": {},
   "outputs": [],
   "source": [
    "args = '?teamId=1,2,3,4,5,6,7,8,9,10,12,13,14,15,16,17,18,19,20,21,22,23,24,25,26,27,28,29,30,52,53&expand=team.roster&season=20132014'"
   ]
  },
  {
   "cell_type": "code",
   "execution_count": 5,
   "metadata": {},
   "outputs": [],
   "source": [
    "all_teams = endpoint + args"
   ]
  },
  {
   "cell_type": "code",
   "execution_count": 6,
   "metadata": {},
   "outputs": [
    {
     "data": {
      "text/html": [
       "\n",
       "                <audio  controls=\"controls\" autoplay=\"autoplay\">\n",
       "                    <source src=\"../Data/wowc.mp3\" type=\"audio/mpeg\" />\n",
       "                    Your browser does not support the audio element.\n",
       "                </audio>\n",
       "              "
      ],
      "text/plain": [
       "<IPython.lib.display.Audio object>"
      ]
     },
     "execution_count": 6,
     "metadata": {},
     "output_type": "execute_result"
    }
   ],
   "source": [
    "response = requests.get(all_teams)\n",
    "finished"
   ]
  },
  {
   "cell_type": "code",
   "execution_count": 7,
   "metadata": {},
   "outputs": [
    {
     "data": {
      "text/plain": [
       "<Response [200]>"
      ]
     },
     "execution_count": 7,
     "metadata": {},
     "output_type": "execute_result"
    }
   ],
   "source": [
    "response"
   ]
  },
  {
   "cell_type": "code",
   "execution_count": 8,
   "metadata": {},
   "outputs": [],
   "source": [
    "res = response.json()\n"
   ]
  },
  {
   "cell_type": "code",
   "execution_count": 9,
   "metadata": {},
   "outputs": [
    {
     "data": {
      "text/plain": [
       "8448208"
      ]
     },
     "execution_count": 9,
     "metadata": {},
     "output_type": "execute_result"
    }
   ],
   "source": [
    "res['teams'][0]['roster']['roster'][0]['person']['id']"
   ]
  },
  {
   "cell_type": "code",
   "execution_count": 10,
   "metadata": {},
   "outputs": [
    {
     "data": {
      "text/html": [
       "\n",
       "                <audio  controls=\"controls\" autoplay=\"autoplay\">\n",
       "                    <source src=\"../Data/wowc.mp3\" type=\"audio/mpeg\" />\n",
       "                    Your browser does not support the audio element.\n",
       "                </audio>\n",
       "              "
      ],
      "text/plain": [
       "<IPython.lib.display.Audio object>"
      ]
     },
     "execution_count": 10,
     "metadata": {},
     "output_type": "execute_result"
    }
   ],
   "source": [
    "allteamplayers = pd.DataFrame()\n",
    "\n",
    "for team in res['teams']:\n",
    "    team_name = team['name']\n",
    "    for person in team['roster']['roster']:\n",
    "        per ={}\n",
    "        per['id']=(person['person']['id'])\n",
    "        per['name']=(person['person']['fullName'])\n",
    "        per['position']=(person['position']['type'])\n",
    "        per['team']=team_name\n",
    "        allteamplayers= allteamplayers.append(per,ignore_index=True)\n",
    "finished        "
   ]
  },
  {
   "cell_type": "code",
   "execution_count": 11,
   "metadata": {},
   "outputs": [
    {
     "data": {
      "text/html": [
       "<div>\n",
       "<style scoped>\n",
       "    .dataframe tbody tr th:only-of-type {\n",
       "        vertical-align: middle;\n",
       "    }\n",
       "\n",
       "    .dataframe tbody tr th {\n",
       "        vertical-align: top;\n",
       "    }\n",
       "\n",
       "    .dataframe thead th {\n",
       "        text-align: right;\n",
       "    }\n",
       "</style>\n",
       "<table border=\"1\" class=\"dataframe\">\n",
       "  <thead>\n",
       "    <tr style=\"text-align: right;\">\n",
       "      <th></th>\n",
       "      <th>id</th>\n",
       "      <th>name</th>\n",
       "      <th>position</th>\n",
       "      <th>team</th>\n",
       "    </tr>\n",
       "  </thead>\n",
       "  <tbody>\n",
       "    <tr>\n",
       "      <th>0</th>\n",
       "      <td>8448208.0</td>\n",
       "      <td>Jaromir Jagr</td>\n",
       "      <td>Forward</td>\n",
       "      <td>New Jersey Devils</td>\n",
       "    </tr>\n",
       "    <tr>\n",
       "      <th>1</th>\n",
       "      <td>8460542.0</td>\n",
       "      <td>Patrik Elias</td>\n",
       "      <td>Forward</td>\n",
       "      <td>New Jersey Devils</td>\n",
       "    </tr>\n",
       "    <tr>\n",
       "      <th>2</th>\n",
       "      <td>8460626.0</td>\n",
       "      <td>Bryce Salvador</td>\n",
       "      <td>Defenseman</td>\n",
       "      <td>New Jersey Devils</td>\n",
       "    </tr>\n",
       "    <tr>\n",
       "      <th>3</th>\n",
       "      <td>8464977.0</td>\n",
       "      <td>Dainius Zubrus</td>\n",
       "      <td>Forward</td>\n",
       "      <td>New Jersey Devils</td>\n",
       "    </tr>\n",
       "    <tr>\n",
       "      <th>4</th>\n",
       "      <td>8467545.0</td>\n",
       "      <td>Michael Ryder</td>\n",
       "      <td>Forward</td>\n",
       "      <td>New Jersey Devils</td>\n",
       "    </tr>\n",
       "    <tr>\n",
       "      <th>...</th>\n",
       "      <td>...</td>\n",
       "      <td>...</td>\n",
       "      <td>...</td>\n",
       "      <td>...</td>\n",
       "    </tr>\n",
       "    <tr>\n",
       "      <th>1053</th>\n",
       "      <td>8476460.0</td>\n",
       "      <td>Mark Scheifele</td>\n",
       "      <td>Forward</td>\n",
       "      <td>Winnipeg Jets</td>\n",
       "    </tr>\n",
       "    <tr>\n",
       "      <th>1054</th>\n",
       "      <td>8476885.0</td>\n",
       "      <td>Jacob Trouba</td>\n",
       "      <td>Defenseman</td>\n",
       "      <td>Winnipeg Jets</td>\n",
       "    </tr>\n",
       "    <tr>\n",
       "      <th>1055</th>\n",
       "      <td>8471219.0</td>\n",
       "      <td>Al Montoya</td>\n",
       "      <td>Goalie</td>\n",
       "      <td>Winnipeg Jets</td>\n",
       "    </tr>\n",
       "    <tr>\n",
       "      <th>1056</th>\n",
       "      <td>8471715.0</td>\n",
       "      <td>Ondrej Pavelec</td>\n",
       "      <td>Goalie</td>\n",
       "      <td>Winnipeg Jets</td>\n",
       "    </tr>\n",
       "    <tr>\n",
       "      <th>1057</th>\n",
       "      <td>8474636.0</td>\n",
       "      <td>Michael Hutchinson</td>\n",
       "      <td>Goalie</td>\n",
       "      <td>Winnipeg Jets</td>\n",
       "    </tr>\n",
       "  </tbody>\n",
       "</table>\n",
       "<p>1058 rows × 4 columns</p>\n",
       "</div>"
      ],
      "text/plain": [
       "             id                name    position               team\n",
       "0     8448208.0        Jaromir Jagr     Forward  New Jersey Devils\n",
       "1     8460542.0        Patrik Elias     Forward  New Jersey Devils\n",
       "2     8460626.0      Bryce Salvador  Defenseman  New Jersey Devils\n",
       "3     8464977.0      Dainius Zubrus     Forward  New Jersey Devils\n",
       "4     8467545.0       Michael Ryder     Forward  New Jersey Devils\n",
       "...         ...                 ...         ...                ...\n",
       "1053  8476460.0      Mark Scheifele     Forward      Winnipeg Jets\n",
       "1054  8476885.0        Jacob Trouba  Defenseman      Winnipeg Jets\n",
       "1055  8471219.0          Al Montoya      Goalie      Winnipeg Jets\n",
       "1056  8471715.0      Ondrej Pavelec      Goalie      Winnipeg Jets\n",
       "1057  8474636.0  Michael Hutchinson      Goalie      Winnipeg Jets\n",
       "\n",
       "[1058 rows x 4 columns]"
      ]
     },
     "execution_count": 11,
     "metadata": {},
     "output_type": "execute_result"
    }
   ],
   "source": [
    "allteamplayers"
   ]
  },
  {
   "cell_type": "code",
   "execution_count": 12,
   "metadata": {},
   "outputs": [],
   "source": [
    "allteamplayers['id']= allteamplayers['id'].astype(int).astype(str)\n",
    "\n"
   ]
  },
  {
   "cell_type": "code",
   "execution_count": 13,
   "metadata": {},
   "outputs": [
    {
     "data": {
      "text/html": [
       "\n",
       "                <audio  controls=\"controls\" autoplay=\"autoplay\">\n",
       "                    <source src=\"../Data/wowc.mp3\" type=\"audio/mpeg\" />\n",
       "                    Your browser does not support the audio element.\n",
       "                </audio>\n",
       "              "
      ],
      "text/plain": [
       "<IPython.lib.display.Audio object>"
      ]
     },
     "execution_count": 13,
     "metadata": {},
     "output_type": "execute_result"
    }
   ],
   "source": [
    "for i,row in allteamplayers.iterrows():\n",
    "    endpointall ='https://statsapi.web.nhl.com/api/v1/people/' + str(row['id']) + '/stats/?stats=statsSingleSeason&season=20132014'\n",
    "    responseall=requests.get(endpointall)\n",
    "    resall = responseall.json()\n",
    "    for team in resall['stats']:\n",
    "        for split in team['splits']:\n",
    "            if row['position']=='Goalie':\n",
    "                allteamplayers.at[i,'assists']= 0\n",
    "                allteamplayers.at[i,'games']= split['stat']['games']\n",
    "                allteamplayers.at[i,'games_started']= split['stat']['gamesStarted'] \n",
    "                allteamplayers.at[i,'goals']= 0\n",
    "                allteamplayers.at[i,'time_on_ice']= split['stat']['timeOnIcePerGame']\n",
    "                allteamplayers.at[i,'blocked']= 0\n",
    "                allteamplayers.at[i,'penaltymin']= 0\n",
    "                allteamplayers.at[i,'plusMinus']= 0\n",
    "                allteamplayers.at[i,'wins']= split['stat']['wins']\n",
    "                allteamplayers.at[i,'losses']= split['stat']['losses']\n",
    "                allteamplayers.at[i,'gaa']= split['stat']['goalAgainstAverage']\n",
    "                allteamplayers.at[i,'shots_against']= split['stat']['shotsAgainst']\n",
    "                allteamplayers.at[i,'goals_against']= split['stat']['goalsAgainst']\n",
    "                allteamplayers.at[i,'shutouts']= split['stat']['shutouts']\n",
    "                allteamplayers.at[i,'yearid']= '2013-2014'\n",
    "            else: \n",
    "                allteamplayers.at[i,'assists']= split['stat']['assists']\n",
    "                allteamplayers.at[i,'games']= split['stat']['games']\n",
    "                allteamplayers.at[i,'games_started']= 0\n",
    "                allteamplayers.at[i,'goals']= split['stat']['goals']\n",
    "                allteamplayers.at[i,'time_on_ice']= split['stat']['timeOnIcePerGame']\n",
    "                allteamplayers.at[i,'blocked']= split['stat']['blocked']\n",
    "                allteamplayers.at[i,'penaltymin']= split['stat']['pim']\n",
    "                allteamplayers.at[i,'plusMinus']= split['stat']['plusMinus']\n",
    "                allteamplayers.at[i,'wins']= 0\n",
    "                allteamplayers.at[i,'losses']= 0\n",
    "                allteamplayers.at[i,'gaa']= 0\n",
    "                allteamplayers.at[i,'shots_against']= 0\n",
    "                allteamplayers.at[i,'goals_against']= 0\n",
    "                allteamplayers.at[i,'shutouts']= 0\n",
    "                allteamplayers.at[i,'yearid']= '2013-2014'\n",
    "finished"
   ]
  },
  {
   "cell_type": "code",
   "execution_count": 14,
   "metadata": {},
   "outputs": [
    {
     "data": {
      "text/plain": [
       "(1058, 19)"
      ]
     },
     "execution_count": 14,
     "metadata": {},
     "output_type": "execute_result"
    }
   ],
   "source": [
    "allteamplayers.shape"
   ]
  },
  {
   "cell_type": "code",
   "execution_count": 15,
   "metadata": {
    "scrolled": true
   },
   "outputs": [],
   "source": [
    "allteamplayers.to_csv('../Data/2013_2014_stats.csv')"
   ]
  },
  {
   "cell_type": "code",
   "execution_count": 16,
   "metadata": {},
   "outputs": [],
   "source": [
    "#this process was repeated for all 10 seasons 2011/12-2020/21"
   ]
  }
 ],
 "metadata": {
  "kernelspec": {
   "display_name": "Python 3",
   "language": "python",
   "name": "python3"
  },
  "language_info": {
   "codemirror_mode": {
    "name": "ipython",
    "version": 3
   },
   "file_extension": ".py",
   "mimetype": "text/x-python",
   "name": "python",
   "nbconvert_exporter": "python",
   "pygments_lexer": "ipython3",
   "version": "3.8.5"
  }
 },
 "nbformat": 4,
 "nbformat_minor": 4
}
